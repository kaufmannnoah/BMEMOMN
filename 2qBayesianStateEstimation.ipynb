{
 "cells": [
  {
   "cell_type": "code",
   "execution_count": 1,
   "id": "813a7095",
   "metadata": {},
   "outputs": [],
   "source": [
    "import numpy as np\n",
    "import qutip as qt\n",
    "import scipy.stats as sp\n",
    "import matplotlib.pyplot as plt\n",
    "from matplotlib.patches import Ellipse\n",
    "import matplotlib.transforms as transforms\n",
    "import random\n",
    "from ipynb.fs.full.myfunctions import *"
   ]
  },
  {
   "cell_type": "code",
   "execution_count": 155,
   "id": "45f762c8",
   "metadata": {},
   "outputs": [],
   "source": [
    "def sample_ginibre_ensemble(n, p, dim_n, dim_k=None):\n",
    "    # draw n states from the ginibre distribution (unbiased)\n",
    "    if dim_k is None: dim_kk = dim_n\n",
    "    else: dim_kk = dim_k\n",
    "    x_0 = np.zeros((n, dim_n**2))\n",
    "    w_0 = np.ones(n)/n\n",
    "    for i in range(n):\n",
    "        dm = rand_dm_ginibre(dim_n, dim_kk)\n",
    "        x_0[i] = dm_to_bvector(dm, p, dim_n) # calculate pauli representation\n",
    "    return x_0, w_0\n",
    "\n",
    "def measurement(rho, c, dim):\n",
    "    # create a measurement outcome of the state rho (in pauli representation) when measured in basis c\n",
    "    prob = dim * np.sum(rho * c)\n",
    "    if random.uniform(0, 1) < prob: res = 1\n",
    "    else: res = 0\n",
    "    return res\n",
    "\n",
    "def experiment(rho, c, rep, dim):\n",
    "    # measure rho pauli basises specified in c, repear ech measurement rep times, return # of measuered 1s\n",
    "    c_rep = np.tile(c, [1, rep]).reshape((len(c) * rep, dim**2)) # repeated measurements\n",
    "    d_rep = np.array([measurement(rho, c_i, dim) for c_i in c_rep]) # generate random measurements on rho     \n",
    "    return np.sum(np.reshape(d_rep, (len(c), meas_rep)), axis= 1) # sum over measurement repetitions\n",
    "\n",
    "def haarrand_measurement_basis(n, p, dim):\n",
    "    # create n haar random bloch vectors of unit length\n",
    "    c = np.zeros((n, dim**2))\n",
    "    for i in range(n):\n",
    "        dm = qt.ket2dm(qt.rand_ket_haar(dim))\n",
    "        c[i] = dm_to_bvector(dm, p, dim)\n",
    "    return c\n",
    "    \n",
    "def likelihood(x, d, c, rep, dim):\n",
    "    # calculate likelihood of measurement outcome d given that the state is x\n",
    "    p = [dim * np.sum(x_i * c) for x_i in x]\n",
    "    return np.array([sp.binom.pmf(d, rep, p[i]) for i in range(len(x))])\n",
    "\n",
    "def update_weights(x, w, d, c, rep, dim):\n",
    "    # update weights according to likelihood and normalize, check whether resampling is required\n",
    "    w_new = w * likelihood(x, d, c, rep, dim)\n",
    "    w_new = np.divide(w_new, np.sum(w_new))\n",
    "    return w_new\n",
    "\n",
    "def pointestimate(x, w):\n",
    "    # return point estimate of rho\n",
    "    return np.average(x, axis=0, weights= w)\n",
    "\n",
    "def fidelity(a, b, p):\n",
    "    # compute fidelity from density matrices in Pauli representation\n",
    "    return qt.metrics.fidelity(bvector_to_dm(a, p), bvector_to_dm(b, p))**2"
   ]
  },
  {
   "cell_type": "code",
   "execution_count": 58,
   "id": "d7f1cc94",
   "metadata": {},
   "outputs": [],
   "source": [
    "n_q = 2 # number of Qubits - fixed in this implementation\n",
    "dim = 2**n_q # Dimension of Hilbert space\n",
    "p = create_pauli_basis(n_q) # create Pauli basis\n",
    "\n",
    "# ideal state\n",
    "rho = sample_ginibre_ensemble(1, p, dim, dim)[0][0]\n",
    "\n",
    "# Experiment in Pauli basis\n",
    "n_meas = 10 # number of measurements\n",
    "meas_rep = 8 # number of repetitions of measurement\n",
    "c_meas = haarrand_measurement_basis(n_meas, p, dim) # create bloch vectors of measurement basis\n",
    "\n",
    "# sampling\n",
    "n = 10001 # number of sampling points"
   ]
  },
  {
   "cell_type": "code",
   "execution_count": 59,
   "id": "1cf2e13f",
   "metadata": {},
   "outputs": [],
   "source": [
    "# Experiments\n",
    "d_meas = experiment(rho, c_meas, meas_rep, dim)\n",
    "\n",
    "# Generate particle cloud according to unbiased ginibre prior\n",
    "x, w = sample_ginibre_ensemble(n, p, dim, dim)\n",
    "\n",
    "# Update the weights of the point cloud\n",
    "for i in range(n_meas):\n",
    "    w = update_weights(x, w, d_meas[i], c_meas[i], meas_rep, dim) "
   ]
  },
  {
   "cell_type": "code",
   "execution_count": 60,
   "id": "7ab27923",
   "metadata": {},
   "outputs": [
    {
     "name": "stdout",
     "output_type": "stream",
     "text": [
      "0.8500228330726924\n"
     ]
    }
   ],
   "source": [
    "# Estimates\n",
    "rho_est = pointestimate(x, w)\n",
    "print(fidelity(rho, rho_est, p))"
   ]
  }
 ],
 "metadata": {
  "kernelspec": {
   "display_name": "Python 3 (ipykernel)",
   "language": "python",
   "name": "python3"
  },
  "language_info": {
   "codemirror_mode": {
    "name": "ipython",
    "version": 3
   },
   "file_extension": ".py",
   "mimetype": "text/x-python",
   "name": "python",
   "nbconvert_exporter": "python",
   "pygments_lexer": "ipython3",
   "version": "3.10.0"
  }
 },
 "nbformat": 4,
 "nbformat_minor": 5
}
