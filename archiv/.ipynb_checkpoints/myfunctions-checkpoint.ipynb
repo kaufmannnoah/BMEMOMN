{
 "cells": [
  {
   "cell_type": "code",
   "execution_count": 2,
   "id": "490dfdbf",
   "metadata": {},
   "outputs": [],
   "source": [
    "import numpy as np\n",
    "import qutip as qt\n",
    "from joblib import Parallel, delayed"
   ]
  },
  {
   "cell_type": "code",
   "execution_count": 8,
   "id": "ab277add",
   "metadata": {},
   "outputs": [],
   "source": [
    "def rand_dm_ginibre(N, K):\n",
    "    A = np.random.normal(size=(N,K)) + 1.0j * np.random.normal(size=(N,K))\n",
    "    A_dag = A.conj().T\n",
    "    rho = np.dot(A, A_dag)\n",
    "    return qt.Qobj(rho / np.trace(rho))\n",
    "\n",
    "def create_pauli_basis(n):\n",
    "    s = [qt.qeye(2), qt.sigmax(), qt.sigmay(), qt.sigmaz()]\n",
    "    p = s\n",
    "    for i in range(n-1):\n",
    "        p = [qt.tensor(pi, si) for pi in p for si in s]\n",
    "    r = [np.array(pi) for pi in p]\n",
    "    return r\n",
    "\n",
    "def expectation_value(a, b):\n",
    "    return np.real(np.trace(np.dot(a, b)))\n",
    "\n",
    "def dm_to_bvector(a, basis, dim):\n",
    "    return 1 / dim * np.real(np.array([np.trace(np.dot(np.array(a), bi)) for bi in basis]))\n",
    "\n",
    "def state_to_bvector(a, basis, dim):\n",
    "    aa = np.array(a).T\n",
    "    return 1 / dim * np.real(np.array([np.trace(np.dot(np.dot(np.conj(aa.T), bi), aa)) for bi in basis]))\n",
    "\n",
    "def bvector_to_dm(v, basis):\n",
    "    return qt.Qobj(np.sum(np.array([v[i] * basis[i] for i in range(len(v))]), axis= 0))"
   ]
  },
  {
   "cell_type": "code",
   "execution_count": null,
   "id": "81ff8246",
   "metadata": {},
   "outputs": [],
   "source": []
  }
 ],
 "metadata": {
  "kernelspec": {
   "display_name": "Python 3 (ipykernel)",
   "language": "python",
   "name": "python3"
  },
  "language_info": {
   "codemirror_mode": {
    "name": "ipython",
    "version": 3
   },
   "file_extension": ".py",
   "mimetype": "text/x-python",
   "name": "python",
   "nbconvert_exporter": "python",
   "pygments_lexer": "ipython3",
   "version": "3.10.0"
  }
 },
 "nbformat": 4,
 "nbformat_minor": 5
}
