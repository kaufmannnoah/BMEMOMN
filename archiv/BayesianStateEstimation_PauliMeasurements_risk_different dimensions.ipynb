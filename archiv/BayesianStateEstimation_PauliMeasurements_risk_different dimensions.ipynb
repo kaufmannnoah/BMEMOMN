{
 "cells": [
  {
   "cell_type": "code",
   "execution_count": 1,
   "id": "813a7095",
   "metadata": {},
   "outputs": [],
   "source": [
    "import numpy as np\n",
    "import qutip as qt\n",
    "import scipy.stats as sp\n",
    "import matplotlib.pyplot as plt\n",
    "from matplotlib.patches import Ellipse\n",
    "import matplotlib.transforms as transforms\n",
    "import random\n",
    "from ipynb.fs.full.myfunctions import *\n",
    "import itertools\n",
    "import time"
   ]
  },
  {
   "cell_type": "code",
   "execution_count": 2,
   "id": "45f762c8",
   "metadata": {},
   "outputs": [],
   "source": [
    "def sample_ginibre_ensemble(n, p, dim_n, dim_k=None):\n",
    "    # draw n states from the ginibre distribution (unbiased)\n",
    "    if dim_k is None: dim_kk = dim_n\n",
    "    else: dim_kk = dim_k\n",
    "    x_0 = np.zeros((n, dim_n**2))\n",
    "    w_0 = np.ones(n)/n\n",
    "    for i in range(n):\n",
    "        dm = rand_dm_ginibre(dim_n, dim_kk)\n",
    "        x_0[i] = dm_to_bvector(dm, p, dim_n) # calculate pauli representation\n",
    "    return x_0, w_0\n",
    "\n",
    "def experiment(rho, c):\n",
    "    # measure rho pauli basises specified in c\n",
    "    if(len(rho) != 4 ** len(c[0])): print(\"wrong dimensions!\")\n",
    "    q = len(c[0])\n",
    "    data = np.zeros(c.shape)\n",
    "    a = np.array([list(i) for i in itertools.product([0, 1], repeat=q)]) # possible measurement outcomes\n",
    "    ind = np.array([4**i for i in range(q)][::-1])\n",
    "    for idc, ci in enumerate(c):\n",
    "        probs = np.zeros(len(a))\n",
    "        for ida, ai in enumerate(a): # loop over possible outcomes\n",
    "            for bi in a: # loop over all involved measurements\n",
    "                probs[ida] += (-1)**(np.sum(bi*ai))*rho[int(np.sum(ci * ind * bi))]\n",
    "        data[idc] = a[np.random.choice(range(len(a)), p = probs)]\n",
    "    return data\n",
    "    \n",
    "def likelihood(x, d, c):\n",
    "    # calculate likelihood of measurement outcome d given that the state is x\n",
    "    lh = np.zeros(len(x))\n",
    "    ind = np.array([4**i for i in range(len(c))][::-1])\n",
    "    b = np.array([list(i) for i in itertools.product([0, 1], repeat=len(c))])\n",
    "    for idx, xi in enumerate(x):\n",
    "        for bi in b:\n",
    "            lh[idx] += (-1)**(np.sum(bi*d))*xi[int(np.sum(c * ind * bi))]\n",
    "    return lh\n",
    "\n",
    "def bayes_update(x, w, d, c, n_active, threshold):\n",
    "    # update weights according to likelihood and normalize\n",
    "    w_temp = w\n",
    "    start = time.time()\n",
    "    for i in range(len(c)):\n",
    "        w_new = np.zeros(len(w_temp))\n",
    "        w_new[n_active] = w_temp[n_active] * likelihood(x[n_active], d[i], c[i])\n",
    "        w_new[n_active] = np.divide(w_new[n_active], np.sum(w_new[n_active]))\n",
    "        w_temp = w_new\n",
    "        n_active = n_active[np.where(w_temp[n_active] > threshold)]\n",
    "    end = time.time()\n",
    "    return w_temp, end-start\n",
    "\n",
    "def pointestimate(x, w):\n",
    "    # return point estimate of rho\n",
    "    return np.average(x, axis=0, weights= w)\n",
    "\n",
    "def fidelity(a, b, p):\n",
    "    # compute fidelity from density matrices in Pauli representation\n",
    "    return qt.metrics.fidelity(bvector_to_dm(a, p), bvector_to_dm(b, p))**2"
   ]
  },
  {
   "cell_type": "code",
   "execution_count": 148,
   "id": "9a6a5a9c",
   "metadata": {},
   "outputs": [],
   "source": [
    "n_q = 4 # number of Qubits - fixed in this implementation\n",
    "dim = 2**n_q # dimension of Hilbert space\n",
    "p = create_pauli_basis(n_q) # create Pauli basis\n",
    "\n",
    "# experiment in Pauli basis\n",
    "n_meas = 64 # number of measurements\n",
    "c_meas = np.random.randint(1, 4, size= (n_meas, n_q)) # create pauli measurement basis (1=x, 2=y, 3=z)\n",
    "\n",
    "# sampling\n",
    "n = 1000 # number of sampling points\n",
    "\n",
    "# cut_off\n",
    "threshold = 1 / (n**2)\n",
    "n_active0 = np.arange(n)"
   ]
  },
  {
   "cell_type": "code",
   "execution_count": 149,
   "id": "b2fe0b77",
   "metadata": {},
   "outputs": [],
   "source": [
    "x, w0 = sample_ginibre_ensemble(n, p, dim, dim) # Generate particle cloud unbiased prior\n",
    "rho = x[0] # Ideal state\n",
    "d_meas = experiment(rho, c_meas) # Experiments\n",
    "\n",
    "# Update the weights of the point cloud\n",
    "w, dt = bayes_update(x, w0, d_meas, c_meas, n_active0, threshold)\n",
    "\n",
    "# Estimates\n",
    "rho_est = pointestimate(x, w)\n",
    "print(fidelity(rho, rho_est, p))\n",
    "print(dt)"
   ]
  },
  {
   "cell_type": "code",
   "execution_count": 153,
   "id": "551c6288",
   "metadata": {},
   "outputs": [],
   "source": [
    "### RISK ###\n",
    "\n",
    "n_q = [1, 2, 3, 4] # number of Qubits - fixed in this implementation\n",
    "\n",
    "# experiment in Pauli basis\n",
    "n_meas = [1, 4, 16, 64] # number of measurements\n",
    "meas_rep = 20 # number of repetition\n",
    "\n",
    "# sampling number\n",
    "n = 1000\n",
    "rep_prep = 20\n",
    "\n",
    "# cut off\n",
    "threshold = 1 / n**2\n",
    "n_active0 = np.arange(n)\n",
    "\n",
    "# output\n",
    "fid = np.zeros((len(n_q), len(n_meas), rep_prep, meas_rep))\n",
    "t = np.zeros((len(n_q), len(n_meas), rep_prep, meas_rep))\n",
    "n_ess = np.zeros((len(n_q), len(n_meas), rep_prep, meas_rep))\n",
    "w_rho = np.zeros((len(n_q), len(n_meas), rep_prep, meas_rep))"
   ]
  },
  {
   "cell_type": "code",
   "execution_count": 154,
   "id": "7b4f1742",
   "metadata": {},
   "outputs": [
    {
     "name": "stdout",
     "output_type": "stream",
     "text": [
      "1\n",
      "2\n",
      "3\n",
      "4\n"
     ]
    }
   ],
   "source": [
    "for iq, q in enumerate(n_q):\n",
    "    print(q)\n",
    "    dim = 2 ** q\n",
    "    p = create_pauli_basis(q)\n",
    "    c_meas = np.random.randint(1, 4, size= (meas_rep, n_meas[-1], q)) # create pauli measurement basis (1=x, 2=y, 3=z)\n",
    "    x, w0 = sample_ginibre_ensemble(n, p, dim, dim)\n",
    "    for i in range(rep_prep):\n",
    "        rho = x[i]\n",
    "        for j in range(meas_rep):\n",
    "            d_meas = experiment(rho, c_meas[j]) # Experiments\n",
    "            for idk, k in enumerate(n_meas):\n",
    "                w, dt = bayes_update(x, w0, d_meas[:k], c_meas[j][:k], n_active0, threshold)\n",
    "                fid[iq][idk][i][j] = np.round(fidelity(rho, pointestimate(x, w), p), decimals= 7)\n",
    "                t[iq][idk][i][j] = np.round(dt, decimals= 3)\n",
    "                n_ess[iq][idk][i][j] = np.round(1 / np.sum(w**2), decimals= 4)\n",
    "                w_rho[iq][idk][i][j] = np.round(np.max(w), decimals= 4)"
   ]
  },
  {
   "cell_type": "code",
   "execution_count": 158,
   "id": "7b3a9d7e",
   "metadata": {},
   "outputs": [
    {
     "data": {
      "image/png": "[encoded data removed]",
      "text/plain": [
       "<Figure size 720x504 with 1 Axes>"
      ]
     },
     "metadata": {
      "needs_background": "light"
     },
     "output_type": "display_data"
    }
   ],
   "source": [
    "fid_avg = np.average(1 - fid, axis= (2, 3))\n",
    "fid_8_total = np.std(1 - fid, axis= (2, 3)) / np.sqrt(rep_prep * meas_rep)\n",
    "\n",
    "t_avg = np.average(t, axis=(2, 3))\n",
    "t_8_total = np.std(t, axis= (2, 3)) / np.sqrt(rep_prep * meas_rep)\n",
    "\n",
    "# Plot fidelities\n",
    "fig, ax1 = plt.subplots(figsize=(10, 7))\n",
    "\n",
    "color = ['red', 'green', 'blue', 'orange']\n",
    "\n",
    "m_s = 8                      \n",
    "for indq, qi in enumerate(n_q):\n",
    "    ax1.errorbar(n_meas, fid_avg[indq], yerr= fid_8_total[indq], c= color[indq], ls= '-', marker= 'o', ms= 0, lw= 0, capsize=6, elinewidth=2, label= str(qi) + ' qubits')    \n",
    "\n",
    "fs = 15\n",
    "ax1.axhline(0, c= 'gray')\n",
    "ax1.legend()\n",
    "ax1.set_xscale('log', base=2)\n",
    "ax1.set_xlim(0.75, 80)\n",
    "ax1.set_xlabel(r'number of measurements $M$', fontsize=fs)\n",
    "ax1.set_xticks([1, 4, 16, 64], fontsize=fs)\n",
    "ax1.set_ylabel(r'infidelity ($1-F$)', fontsize=fs, c= 'navy')\n",
    "ax1.set_yticks(np.linspace(0, 0.35, 8), fontsize=fs)\n",
    "ax1.set_ylim(-0.025, 0.375)\n",
    "ax1.grid()\n",
    "\n",
    "plt.grid(c='lightgray')\n",
    "plt.show()"
   ]
  },
  {
   "cell_type": "code",
   "execution_count": null,
   "id": "9a7f9b41",
   "metadata": {},
   "outputs": [],
   "source": []
  }
 ],
 "metadata": {
  "kernelspec": {
   "display_name": "Python 3 (ipykernel)",
   "language": "python",
   "name": "python3"
  },
  "language_info": {
   "codemirror_mode": {
    "name": "ipython",
    "version": 3
   },
   "file_extension": ".py",
   "mimetype": "text/x-python",
   "name": "python",
   "nbconvert_exporter": "python",
   "pygments_lexer": "ipython3",
   "version": "3.10.0"
  }
 },
 "nbformat": 4,
 "nbformat_minor": 5
}
