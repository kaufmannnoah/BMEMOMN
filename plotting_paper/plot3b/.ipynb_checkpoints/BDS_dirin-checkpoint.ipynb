{
 "cells": [
  {
   "cell_type": "markdown",
   "metadata": {},
   "source": [
    "### Import main packages"
   ]
  },
  {
   "cell_type": "code",
   "execution_count": 4,
   "metadata": {},
   "outputs": [],
   "source": [
    "import numpy as np\n",
    "import figurefirst as fifi\n",
    "import matplotlib as mpl\n",
    "from mpmath import *\n",
    "import matplotlib.font_manager"
   ]
  },
  {
   "cell_type": "markdown",
   "metadata": {},
   "source": [
    "### Initialize plotting parameters"
   ]
  },
  {
   "cell_type": "code",
   "execution_count": 13,
   "metadata": {},
   "outputs": [],
   "source": [
    "# Plotting parameters\n",
    "basefs=9\n",
    "mpl.rcParams[\"mathtext.fontset\"]    = \"cm\"\n",
    "mpl.rcParams['font.family']         = 'Arial'\n",
    "mpl.rcParams[\"font.size\"]           = basefs\n",
    "mpl.rcParams[\"axes.labelsize\"]      = basefs+2\n",
    "mpl.rcParams[\"xtick.labelsize\"]     = basefs\n",
    "mpl.rcParams[\"ytick.labelsize\"]     = basefs\n",
    "mpl.rcParams[\"legend.fontsize\"]     = basefs\n",
    "mpl.rcParams[\"legend.edgecolor\"]    = \"black\" ;\n",
    "mpl.rcParams[\"legend.fancybox\"]     = True\n",
    "mpl.rcParams[\"legend.borderpad\"]    = 0.5\n",
    "mpl.rcParams[\"legend.handlelength\"] = .75\n",
    "mpl.rcParams[\"lines.linewidth\"]     = 1\n",
    "mpl.rcParams[\"lines.markersize\"]    = 3\n",
    "mpl.rcParams[\"text.usetex\"]         = False\n",
    "mpl.rcParams[\"text.latex.preamble\"] = \"\\\\usepackage{amsmath,amsthm}; \\\\usepackage{physics}\";"
   ]
  },
  {
   "cell_type": "code",
   "execution_count": 14,
   "metadata": {},
   "outputs": [
    {
     "name": "stdout",
     "output_type": "stream",
     "text": [
      "[array([ 3,  6,  9, 12, 15, 18, 21, 24, 27, 30])]\n",
      "0.138893687075\n",
      "0.0015929221030713545\n",
      "{'ismplfigure': False}\n"
     ]
    },
    {
     "data": {
      "image/png": "[encoded data removed]",
      "text/plain": [
       "<Figure size 232.441x170.079 with 1 Axes>"
      ]
     },
     "metadata": {
      "needs_background": "light"
     },
     "output_type": "display_data"
    }
   ],
   "source": [
    "filename = \"BDS_dirinv_layout\" \n",
    "\n",
    "layout = fifi.svg_to_axes.FigureLayout(\n",
    "                                       filename + \".svg\",\n",
    "                                       autogenlayers=True, \n",
    "                                       make_mplfigures=True, hide_layers=[]\n",
    "                                      )\n",
    "\n",
    "ax = layout.axes[(\"fig\", \"ax\")]\n",
    "\n",
    "title = ['BDS_dirichlet']\n",
    "name = \"unordered.npy\"\n",
    "meas = ['Bayesian Mean Estimation','Direct Inversion']\n",
    "c_meas = ['#009E73', '#0072B2', '#D55E00', '#56B4E9', '#E69F00']\n",
    "c_meas = ['#009E73', 'plum', '#0072B2', '#56B4E9', '#E69F00']\n",
    "\n",
    "markers = ['D', 's']\n",
    "\n",
    "n_meas = [np.arange(3, 31, 3, dtype= int), np.arange(1, 31, 1, dtype= int)]\n",
    "print(n_meas[::2])\n",
    "n_sample = 4000\n",
    "\n",
    "HS = np.load(name)[[1, 5], 0, 0, :, :, :] #[estimator][nmeas][sample]\n",
    "HS = HS[:, [1, 2]] #[estimator][nmeas][sample]\n",
    "HS = HS[:, :, :, :n_sample] #[estimator][nmeas][sample]\n",
    "\n",
    "th_sq = 2 / 5\n",
    "def fun(N):\n",
    "    return (2/3)**N * ((1 - th_sq)*(1/2 * N * hyp3f2(1, 1, 1 - N, 2, 2, -1/2) - 1) + 3/4)\n",
    "\n",
    "axs = layout.axes[(\"fig\", \"ax\")]\n",
    "\n",
    "for i in [0, 1]:\n",
    "    for j in [0, 1]:\n",
    "        temp = HS[j][i][:len(n_meas[i])]\n",
    "        HS_std = np.std(1 - temp, axis=1) / np.sqrt(n_sample)\n",
    "        if j == 0 and i == 1: \n",
    "            print(np.average(temp, axis=1)[0])\n",
    "            print(HS_std[0])\n",
    "        axs.errorbar(n_meas[i], np.average(temp, axis=1), yerr= HS_std, c= c_meas[i], lw=0, ls= \"\", marker= markers[j], alpha=1, zorder= 9-3*i)\n",
    "        axs.errorbar(n_meas[i], np.average(temp, axis=1), yerr= HS_std, c= 'black', lw= 0.5, ls= \"\",  ms= 0, alpha=1, capsize= 1, zorder= 10-3*i)\n",
    "\n",
    "axs.errorbar(10, 10, yerr= 0.02, c= 'black', lw=0, ls= \"\", marker= 's', alpha=1, label= \"direct inversion\")\n",
    "axs.errorbar(10, 10, yerr= 0.02, c= 'black', lw=0, ls= \"\", marker= 'D', alpha=1, label= \"Bayesian mean est.\")\n",
    "axs.errorbar(10, 10, yerr= 0.02, c= 'white', lw=0, ls= \"\", marker= 'D', alpha=1, label= \" \")\n",
    "axs.errorbar(10, 10, yerr= 0.02, c= c_meas[1], lw=0, ls= \"\", marker= 'o', alpha=1, label= \"random parity check\")\n",
    "axs.errorbar(10, 10, yerr= 0.02, c= c_meas[0], lw=0, ls= \"\", marker= 'o', alpha=1, label= \"ordered parity check\")\n",
    "\n",
    "x = np.linspace(0.7, 30.7, 1000)\n",
    "y= [fun(N) for N in x]\n",
    "axs.plot(x, y, c= c_meas[1],  ls= '-', alpha= 0.6, zorder= 1)\n",
    "axs.plot(x, y, c= 'white',  ls= '-', alpha= 0.1, zorder= 2)\n",
    "x = np.linspace(2.95, 30.7, 1000)\n",
    "axs.plot(x, 9/(5*x), c= c_meas[0], ls= '-', alpha =0.5, zorder= 1)\n",
    "axs.plot(x, 9/(5*x), c= 'white', ls= '-', alpha =0.1, zorder= 2)\n",
    "\n",
    "x = np.linspace(0.7, 30.7, 1000)\n",
    "axs.plot(x, (x+3)/(5*(x/3+2)**2), c= c_meas[0], ls= ':', dash_capstyle= 'round', alpha =0.5, zorder= 1)\n",
    "axs.plot(x, (x+3)/(5*(x/3+2)**2), c= 'white', ls= ':', dash_capstyle= 'round', alpha =0.1, zorder= 2)\n",
    "\n",
    "\n",
    "axs.set_xlim(0, 31)\n",
    "axs.set_ylim(0, 0.625)\n",
    "axs.set_xticks(np.arange(0, 31, 12, dtype= int))\n",
    "axs.set_yticks([0, 0.25, 0.5])\n",
    "axs.legend(loc='upper right')\n",
    "axs.grid()\n",
    "axs.set_axisbelow(True)\n",
    "axs.set_xlabel(r'number of measurements $N$')\n",
    "axs.set_ylabel(r'average risk')\n",
    "    \n",
    "tmp = layout.save(\"BDS_mean_dirinv.svg\")"
   ]
  },
  {
   "cell_type": "code",
   "execution_count": null,
   "metadata": {},
   "outputs": [],
   "source": []
  },
  {
   "cell_type": "code",
   "execution_count": null,
   "metadata": {},
   "outputs": [],
   "source": []
  }
 ],
 "metadata": {
  "kernelspec": {
   "display_name": "Python 3 (ipykernel)",
   "language": "python",
   "name": "python3"
  },
  "language_info": {
   "codemirror_mode": {
    "name": "ipython",
    "version": 3
   },
   "file_extension": ".py",
   "mimetype": "text/x-python",
   "name": "python",
   "nbconvert_exporter": "python",
   "pygments_lexer": "ipython3",
   "version": "3.10.0"
  }
 },
 "nbformat": 4,
 "nbformat_minor": 2
}
