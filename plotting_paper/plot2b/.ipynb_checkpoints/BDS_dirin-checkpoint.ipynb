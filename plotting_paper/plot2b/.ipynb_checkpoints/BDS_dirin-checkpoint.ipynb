{
 "cells": [
  {
   "cell_type": "markdown",
   "metadata": {},
   "source": [
    "### Import main packages"
   ]
  },
  {
   "cell_type": "code",
   "execution_count": 30,
   "metadata": {},
   "outputs": [],
   "source": [
    "import numpy as np\n",
    "import figurefirst as fifi\n",
    "import matplotlib as mpl\n",
    "from mpmath import *\n",
    "import matplotlib.font_manager"
   ]
  },
  {
   "cell_type": "markdown",
   "metadata": {},
   "source": [
    "### Initialize plotting parameters"
   ]
  },
  {
   "cell_type": "code",
   "execution_count": 31,
   "metadata": {},
   "outputs": [],
   "source": [
    "# Plotting parameters\n",
    "basefs=9\n",
    "mpl.rcParams[\"mathtext.fontset\"]    = \"cm\"\n",
    "mpl.rcParams['font.family']         = 'Arial'\n",
    "mpl.rcParams[\"font.size\"]           = basefs\n",
    "mpl.rcParams[\"axes.labelsize\"]      = basefs+2\n",
    "mpl.rcParams[\"xtick.labelsize\"]     = basefs\n",
    "mpl.rcParams[\"ytick.labelsize\"]     = basefs\n",
    "mpl.rcParams[\"legend.fontsize\"]     = basefs\n",
    "mpl.rcParams[\"legend.edgecolor\"]    = \"black\" ;\n",
    "mpl.rcParams[\"legend.fancybox\"]     = True\n",
    "mpl.rcParams[\"legend.borderpad\"]    = 0.5\n",
    "mpl.rcParams[\"legend.handlelength\"] = .75\n",
    "mpl.rcParams[\"lines.linewidth\"]     = 2\n",
    "mpl.rcParams[\"lines.markersize\"]    = 2\n",
    "mpl.rcParams[\"text.usetex\"]         = False\n",
    "mpl.rcParams[\"text.latex.preamble\"] = \"\\\\usepackage{amsmath,amsthm}; \\\\usepackage{physics}\";"
   ]
  },
  {
   "cell_type": "code",
   "execution_count": 34,
   "metadata": {},
   "outputs": [
    {
     "name": "stdout",
     "output_type": "stream",
     "text": [
      "[ 1  3  5  7  9 11 13 15 17 19 21 23 25 27 29]\n",
      "(2, 30, 1000)\n",
      "{'ismplfigure': False}\n"
     ]
    },
    {
     "data": {
      "image/png": "[encoded data removed]",
      "text/plain": [
       "<Figure size 232.441x136.063 with 1 Axes>"
      ]
     },
     "metadata": {
      "needs_background": "light"
     },
     "output_type": "display_data"
    }
   ],
   "source": [
    "filename = \"BDS_dirinv_layout\" \n",
    "\n",
    "layout = fifi.svg_to_axes.FigureLayout(\n",
    "                                       filename + \".svg\",\n",
    "                                       autogenlayers=True, \n",
    "                                       make_mplfigures=True, hide_layers=[]\n",
    "                                      )\n",
    "\n",
    "ax = layout.axes[(\"fig\", \"ax\")]\n",
    "\n",
    "title = ['BDS_dirichlet']\n",
    "name = \"unordered.npy\"\n",
    "meas = ['Bayesian Mean Estimation','Direct Inversion']\n",
    "c_meas = ['#56B4E9', '#CC79A7', '#009E73', '#D55E00', '#E69F00', '#0072B2']\n",
    "markers = ['D', 's', 'd']\n",
    "\n",
    "n_meas = np.arange(1, 31, 1, dtype= int)\n",
    "print(n_meas[::2])\n",
    "n_sample = 1000\n",
    "\n",
    "m_s = 4 #markersize\n",
    "l_w = 1 #linewidth\n",
    "\n",
    "\n",
    "HS = np.load(name)[[1, 5], 0, 0, 0, :, :] #[estimator][nmeas][sample]\n",
    "HS = HS[:, :, :n_sample] #[estimator][nmeas][sample]\n",
    "print(np.shape(HS))\n",
    "\n",
    "th_sq = 2 / 5\n",
    "def fun(N):\n",
    "    return (2/3)**N * ((1 - th_sq)*(1/2 * N * hyp3f2(1, 1, 1 - N, 2, 2, -1/2) - 1) + 3/4)\n",
    "\n",
    "axs = layout.axes[(\"fig\", \"ax\")]\n",
    "\n",
    "temp = HS[0]\n",
    "HS_std = np.std(temp, axis=1) / np.sqrt(n_sample)\n",
    "axs.errorbar(n_meas[::4], np.average(temp, axis=1)[::4], yerr= HS_std[::4], c= c_meas[0], lw=0, ls= \"\", marker= markers[0], ms= m_s, alpha=1, label= meas[0], zorder= 3)\n",
    "axs.errorbar(n_meas[::4], np.average(temp, axis=1)[::4], yerr= HS_std[::4], c= 'black', lw= 0.5, ls= \"\",  ms= 0, alpha=1, capsize= 1, zorder= 4)\n",
    "axs.errorbar(n_meas[2::4], np.average(temp, axis=1)[2::4], yerr= HS_std[2::4], c= c_meas[0], lw=0, ls= \"\", marker= markers[0], ms= m_s, alpha=1, zorder= 7)\n",
    "axs.errorbar(n_meas[2::4], np.average(temp, axis=1)[2::4], yerr= HS_std[2::4], c= 'black', lw= 0.5, ls= \"\",  ms= 0, alpha=1, capsize= 1, zorder= 8)\n",
    "temp = HS[1]\n",
    "HS_std = np.std(temp, axis=1) / np.sqrt(n_sample)\n",
    "axs.errorbar(n_meas[::2], np.average(temp, axis=1)[::2], yerr= HS_std[::2], c= c_meas[1], lw=0, ls= \"\", marker= markers[1], ms= m_s, alpha=1, label= meas[1], zorder= 5)\n",
    "axs.errorbar(n_meas[::2], np.average(temp, axis=1)[::2], yerr= HS_std[::2], c= 'black', lw= 0.5, ls= \"\",  ms= 0, alpha=1, capsize= 1, zorder= 6)\n",
    "\n",
    "x = np.linspace(1, 30, 1000)\n",
    "axs.plot(x, 3/(5*x), c= c_meas[1], ls= '-', lw= l_w, alpha = 0.2, zorder= 1)\n",
    "axs.plot(x, 3/(5*x), c= 'white', ls= '-', lw= l_w, alpha = 0.1, zorder= 2)\n",
    "x = np.linspace(0.4, 30, 1000)\n",
    "axs.plot(x, 3/(5*(x+4)), c= c_meas[0], ls= '-', lw= l_w, alpha = 0.2, zorder= 1)\n",
    "axs.plot(x, 3/(5*(x+4)), c= 'white', ls= '-', lw= l_w, alpha = 0.1, zorder= 2)\n",
    "\n",
    "\n",
    "axs.set_xlim(0, 31)\n",
    "axs.set_ylim(0, 0.625)\n",
    "axs.set_xticks(np.arange(0, 31, 12, dtype= int))\n",
    "axs.set_yticks([0, 0.25, 0.5])\n",
    "axs.legend(loc='upper right')\n",
    "axs.grid()\n",
    "axs.set_axisbelow(True)\n",
    "axs.set_xlabel(r'number of measurements $N$')\n",
    "axs.set_ylabel(r'average risk')\n",
    "    \n",
    "tmp = layout.save(\"BDS_mean_dirinv.svg\")"
   ]
  },
  {
   "cell_type": "code",
   "execution_count": null,
   "metadata": {},
   "outputs": [],
   "source": []
  },
  {
   "cell_type": "code",
   "execution_count": null,
   "metadata": {},
   "outputs": [],
   "source": []
  }
 ],
 "metadata": {
  "kernelspec": {
   "display_name": "Python 3 (ipykernel)",
   "language": "python",
   "name": "python3"
  },
  "language_info": {
   "codemirror_mode": {
    "name": "ipython",
    "version": 3
   },
   "file_extension": ".py",
   "mimetype": "text/x-python",
   "name": "python",
   "nbconvert_exporter": "python",
   "pygments_lexer": "ipython3",
   "version": "3.10.0"
  }
 },
 "nbformat": 4,
 "nbformat_minor": 2
}
