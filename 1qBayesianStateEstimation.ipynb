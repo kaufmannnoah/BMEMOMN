{
 "cells": [
  {
   "cell_type": "code",
   "execution_count": 36,
   "id": "813a7095",
   "metadata": {},
   "outputs": [],
   "source": [
    "import numpy as np\n",
    "import qutip as qt\n",
    "import scipy.stats as sp\n",
    "import matplotlib.pyplot as plt\n",
    "from matplotlib.patches import Ellipse\n",
    "import matplotlib.transforms as transforms\n",
    "import random"
   ]
  },
  {
   "cell_type": "code",
   "execution_count": 78,
   "id": "45f762c8",
   "metadata": {},
   "outputs": [],
   "source": [
    "def generate_prior_ginibre(n):\n",
    "    # draw n states from the ginibre distribution (unbiased)\n",
    "    s = [qt.sigmax(), qt.sigmay(), qt.sigmaz()] \n",
    "    x_0 = np.zeros((n, 3))\n",
    "    w_0 = np.ones(n)/n\n",
    "    for i in range(n):\n",
    "        dm = qt.rand_dm_ginibre(dim)\n",
    "        x_0[i] = np.array([qt.expect(j, dm) for j in s]) # calculate pauli representation\n",
    "    return x_0, w_0\n",
    "\n",
    "def pauli_measurement(rho, c):\n",
    "    # create a measurement outcome of the state rho (in pauli representation) when measured in basis c\n",
    "    prob = (rho[c]+1)/2\n",
    "    if random.uniform(0, 1) < prob: res = 1\n",
    "    else: res = 0\n",
    "    return res\n",
    "\n",
    "def pauli_experiment(rho, c, rep):\n",
    "    # measure rho pauli basises specified in c, repear ech measurement rep times, return # of measuered 1s\n",
    "    c_rep = np.tile(c, [rep, 1]).flatten('F') # repeated measurements\n",
    "    d_rep = np.array([pauli_measurement(rho, c_i) for c_i in c_rep]) # generate random measurements on rho     \n",
    "    return np.sum(np.reshape(d_rep, (len(c), meas_rep)), axis= 1) # sum over measurement repetitions\n",
    "    \n",
    "def likelihood(x, d, c, rep):\n",
    "    # calculate likelihood of measurement outcome d given that the state is x\n",
    "    p = (x[:, c] + 1) / 2\n",
    "    return np.array([sp.binom.pmf(d, rep, p[i]) for i in range(len(x))])\n",
    "\n",
    "def update_weights(x, w, d, c, rep):\n",
    "    # update weights according to likelihood and normalize, check whether resampling is required\n",
    "    w_new = w * likelihood(x, d, c, rep)\n",
    "    w_new = np.divide(w_new, np.sum(w_new))\n",
    "    n_eff = 1 / np.sum(w_new**2)\n",
    "    if n_eff / len(w) < thr_resampling: resampling_required = 1\n",
    "    else: resampling_required = 0\n",
    "    return w_new, resampling_required\n",
    "\n",
    "def pointestimate(x, w):\n",
    "    # return point estimate of rho\n",
    "    return np.average(x, axis=0, weights= w)\n",
    "\n",
    "def resample_lw(x, w, h= 0.14, a= 0.99):\n",
    "    # resampling points from x with weights w according to Liu and West algorithm\n",
    "    x_out = []\n",
    "    mu = pointestimate(x, w)\n",
    "    cov = h**2 * np.cov(x, aweights= w, rowvar= 0)\n",
    "    for i in range(len(x)):\n",
    "        j = np.random.choice(len(x), p= w)\n",
    "        mu_i = a * x[j] + (1 - a) * mu\n",
    "        valid_state = 0\n",
    "        while valid_state == 0:\n",
    "            temp = np.random.multivariate_normal(mu_i, cov)\n",
    "            if np.sum(temp**2) <= 1: valid_state = 1\n",
    "        x_out.append(temp)\n",
    "    w_out = np.divide(np.ones(len(x)), len(x))\n",
    "    return np.array(x_out), w_out\n",
    "\n",
    "def fidelity(a, b):\n",
    "    # compute fidelity from density matrices in Pauli representation\n",
    "    s = [qt.sigmax(), qt.sigmay(), qt.sigmaz()]\n",
    "    a_dm = 1/2 * qt.qeye(2)\n",
    "    b_dm = 1/2 * qt.qeye(2)\n",
    "    for ids, s_i in enumerate(s):\n",
    "        a_dm += 1/2 * (s_i * a[ids])\n",
    "        b_dm += 1/2 * (s_i * b[ids])\n",
    "    return qt.metrics.fidelity(a_dm, b_dm)\n",
    "\n",
    "def plot2D_samples(x, w, rho, rho_est, r= 0.02, proj= [0, 1], scale= 0.1, size= (10, 10)):\n",
    "    # plot sample points\n",
    "    fig = plt.figure(figsize=(size)) \n",
    "    plt.gca().add_patch(plt.Circle((0, 0), 1, ec='black', fc=None, fill= 0)) \n",
    "    plt.scatter(x[:,proj[0]], x[:,proj[1]], s= w * len(w) * scale)\n",
    "    confidence_ellipse(x.T[proj], w, rho_est, plt.gca(), n_std=3.0)\n",
    "    plt.scatter(rho[proj[0]], rho[proj[1]], c='red', s=400 * scale)\n",
    "    plt.scatter(rho_est[proj[0]], rho_est[proj[1]], c='orange', s= 400 * scale, marker= 'X')\n",
    "    plt.xlim(-1.1, 1.1)\n",
    "    plt.ylim(-1.1, 1.1)\n",
    "    plt.show()\n",
    "    \n",
    "def confidence_ellipse(x, w, rho_est, ax, n_std=3.0, fc='none', ec='orange', **kwargs):\n",
    "    # create confidence ellipse, n_std = 3.0 cooresponds to 98.5% confidence interval\n",
    "    cov = np.cov(x, aweights= w)\n",
    "    pearson = cov[0, 1]/np.sqrt(cov[0, 0] * cov[1, 1])\n",
    "    ell_radius_x = np.sqrt(1 + pearson)\n",
    "    ell_radius_y = np.sqrt(1 - pearson)\n",
    "    ellipse = Ellipse((0, 0), width=ell_radius_x * 2, height=ell_radius_y * 2, fc= fc, ec= ec, **kwargs)\n",
    "    scale_x = np.sqrt(cov[0, 0]) * n_std\n",
    "    scale_y = np.sqrt(cov[1, 1]) * n_std\n",
    "    transf = transforms.Affine2D().rotate_deg(45).scale(scale_x, scale_y).translate(rho_est[0], rho_est[1])\n",
    "    ellipse.set_transform(transf + ax.transData)\n",
    "    return ax.add_patch(ellipse)"
   ]
  },
  {
   "cell_type": "code",
   "execution_count": 87,
   "id": "d7f1cc94",
   "metadata": {},
   "outputs": [],
   "source": [
    "n_q = 1 # number of Qubits - fixed in this implementation\n",
    "dim = 2**n_q # Dimension of Hilbert space\n",
    "\n",
    "# ideal state\n",
    "rho = np.array([0.7, 0.3, 0])\n",
    "\n",
    "# Experiments in Pauli basis\n",
    "n_meas = 1000 # number of measurements\n",
    "meas_rep = 16 # number of repetitions of measurement\n",
    "c_meas = np.random.randint(0, 3, n_meas) # random measurement basis\n",
    "\n",
    "# SMC parameters\n",
    "n = 2000 # number of sampling points\n",
    "thr_resampling = 0.5 # resampling threshold\n",
    "a = 0.99 # resampling parameter\n",
    "h = np.sqrt(1-a**2) # [a^2+h^2=1] makes sure the resampled covariance stays the same\n",
    "flag_resampling = 0 # resampling required"
   ]
  },
  {
   "cell_type": "code",
   "execution_count": 88,
   "id": "1cf2e13f",
   "metadata": {},
   "outputs": [
    {
     "name": "stdout",
     "output_type": "stream",
     "text": [
      "[ 0.69895092  0.29155813 -0.01195576]\n",
      "0.014673307179197242\n"
     ]
    },
    {
     "data": {
      "image/png": "[encoded data removed]",
      "text/plain": [
       "<Figure size 720x720 with 1 Axes>"
      ]
     },
     "metadata": {
      "needs_background": "light"
     },
     "output_type": "display_data"
    }
   ],
   "source": [
    "# Experiments\n",
    "d_meas = pauli_experiment(rho, c_meas, meas_rep)\n",
    "\n",
    "# Generate particle cloud according to unbiased ginibre prior\n",
    "x, w = generate_prior_ginibre(n)\n",
    "\n",
    "# Update the sequential Monte Carlo particle cloud\n",
    "for i in range(n_meas):\n",
    "    w, flag_resampling = update_weights(x, w, d_meas[i], c_meas[i], meas_rep)\n",
    "    if flag_resampling == 1:\n",
    "        x, w = resample_lw(x, w, h= h, a= a)\n",
    "        flag_resampling = 0\n",
    "\n",
    "# Estimates\n",
    "rho_est = pointestimate(x, w)\n",
    "loss = quadratic_loss(rho_est, rho)\n",
    "cov = np.cov(x, aweights= w, rowvar= 0)\n",
    "print(rho_est)\n",
    "print(loss)\n",
    "\n",
    "# Plot particle cloud\n",
    "plot2D_samples(x, w, rho, rho_est)"
   ]
  },
  {
   "cell_type": "code",
   "execution_count": null,
   "id": "bfb0741d",
   "metadata": {},
   "outputs": [],
   "source": []
  }
 ],
 "metadata": {
  "kernelspec": {
   "display_name": "Python 3 (ipykernel)",
   "language": "python",
   "name": "python3"
  },
  "language_info": {
   "codemirror_mode": {
    "name": "ipython",
    "version": 3
   },
   "file_extension": ".py",
   "mimetype": "text/x-python",
   "name": "python",
   "nbconvert_exporter": "python",
   "pygments_lexer": "ipython3",
   "version": "3.10.0"
  }
 },
 "nbformat": 4,
 "nbformat_minor": 5
}
