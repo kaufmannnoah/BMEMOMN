{
 "cells": [
  {
   "cell_type": "code",
   "execution_count": 1,
   "id": "813a7095",
   "metadata": {},
   "outputs": [],
   "source": [
    "import numpy as np\n",
    "import qutip as qt\n",
    "import matplotlib.pyplot as plt\n",
    "import random\n",
    "import itertools\n",
    "import time"
   ]
  },
  {
   "cell_type": "code",
   "execution_count": 2,
   "id": "f7fe7779",
   "metadata": {},
   "outputs": [],
   "source": [
    "## General functions\n",
    "def create_pauli_basis(n):\n",
    "    # return list with all n-qubit Paulis\n",
    "    s = [qt.qeye(2), qt.sigmax(), qt.sigmay(), qt.sigmaz()]\n",
    "    p = s\n",
    "    for i in range(n-1):\n",
    "        p = [qt.tensor(pi, si) for pi in p for si in s]\n",
    "    r = [np.array(pi) for pi in p]\n",
    "    return r\n",
    "\n",
    "def dm_to_bvector(a, basis, dim):\n",
    "    # convert density matrix to vector in pauli basis (if basis = pauli basis)\n",
    "    return 1 / dim * np.real(np.array([np.trace(np.dot(np.array(a), bi)) for bi in basis]))\n",
    "\n",
    "def ket_to_bvector(a, basis, dim):\n",
    "    # convert ket to vector in pauli basis (if basis = pauli basis)\n",
    "    aa = np.array(a).T\n",
    "    return 1 / dim * np.real(np.array([np.trace(np.dot(np.dot(np.conj(aa.T), bi), aa)) for bi in basis]))\n",
    "\n",
    "def bvector_to_dm(v, basis):\n",
    "    # convert vector in pauli basis to density matrix (if basis = pauli basis)\n",
    "    return qt.Qobj(np.sum(np.array([v[i] * basis[i] for i in range(len(v))]), axis= 0))"
   ]
  },
  {
   "cell_type": "code",
   "execution_count": 3,
   "id": "45f762c8",
   "metadata": {},
   "outputs": [],
   "source": [
    "## Functions for estimation experiment\n",
    "\n",
    "def sample_ginibre_ensemble(n, p, dim_n, dim_k=None):\n",
    "    # draw n states from the ginibre distribution (unbiased)\n",
    "    x_0 = np.zeros((n, dim_n**2))\n",
    "    w_0 = np.ones(n)/n\n",
    "    for i in range(n):\n",
    "        dm = qt.rand_dm_ginibre(N=dim_n, rank=dim_k)\n",
    "        x_0[i] = dm_to_bvector(dm, p, dim_n) # calculate pauli representation\n",
    "    return x_0, w_0\n",
    "\n",
    "def POVM_randbasis(M, p, dim):\n",
    "    # returns dim orthogonal directions, sampled according to the haar measure\n",
    "    o = np.zeros((M, dim, dim**2))\n",
    "    for m in range(M):\n",
    "        u = qt.rand_unitary_haar(dim)\n",
    "        o[m] = np.array([ket_to_bvector(u[i], p, dim) for i in range(dim)])\n",
    "    return o\n",
    "\n",
    "def POVM_paulibasis(M, p, dim):\n",
    "    # returns dim orthogonal directions, sampled according from the Pauli basis\n",
    "    n_q = int(np.log2(dim))\n",
    "    o = np.zeros((M, dim, dim**2))\n",
    "    b = np.random.randint(1, 4, size= (M, n_q))\n",
    "    ind = np.array([4**i for i in range(n_q)][::-1])\n",
    "    signs = np.array([list(i) for i in itertools.product([-1, 1], repeat= n_q)])\n",
    "    comb = np.array([list(i) for i in itertools.product([0, 1], repeat= n_q)]) \n",
    "    for m in range(M):\n",
    "        for ids, s in enumerate(signs):\n",
    "            for c in comb:\n",
    "                o[m][ids][np.sum(ind*c*b[m])] = (-1)**(len(np.where(c*s==-1)[0])%2)\n",
    "    return o / dim\n",
    "\n",
    "def prob_projectivemeas(oi, rho):\n",
    "    # outcome probabilities of projective measurements specified in o, when measuring rho\n",
    "    dim = np.sqrt(len(rho))\n",
    "    prob = dim * np.array([np.sum(oo * rho) for oo in oi])\n",
    "    if abs(np.sum(prob)-1) > 0.1: print(np.sum(prob))\n",
    "    return prob\n",
    "                                          \n",
    "def experiment(o, rho):\n",
    "    # measure rho in basis specified in POVM elements o\n",
    "    dim = len(o[0])\n",
    "    x = np.zeros(len(o))\n",
    "    for ido, oi in enumerate(o):\n",
    "        prob = prob_projectivemeas(oi, rho)\n",
    "        x[ido] = np.random.choice(np.arange(dim), p= prob)\n",
    "    return x\n",
    "                                          \n",
    "def likelihood(r, xi, oi):\n",
    "    # calculate likelihood of measurement outcomes x for states in an array r \n",
    "    lh = np.array([np.sum(oi[int(xi)] * ri) for ri in r]) # proportional to probability (* dim is missing)\n",
    "    return lh\n",
    "\n",
    "def bayes_update(r, w, x, o, n_active, threshold):\n",
    "    # update weights according to likelihood and normalize    \n",
    "    start = time.time()\n",
    "    w_temp = w\n",
    "    for i in range(len(x)):\n",
    "        w_new = np.zeros(len(w_temp)) # needed such that weights below the threshold are 0\n",
    "        w_new[n_active] = w_temp[n_active] * likelihood(r[n_active], x[i], o[i])\n",
    "        w_new[n_active] = np.divide(w_new[n_active], np.sum(w_new[n_active]))\n",
    "        w_temp = w_new\n",
    "        n_active = n_active[np.where(w_new[n_active] > threshold)]\n",
    "        end = time.time()\n",
    "    return w_new, end-start\n",
    "                                  \n",
    "def pointestimate(x, w):\n",
    "    # return point estimate of rho\n",
    "    return np.average(x, axis=0, weights= w)\n",
    "\n",
    "def fidelity(a, b, p):\n",
    "    # compute fidelity from density matrices in Pauli representation\n",
    "    return qt.metrics.fidelity(bvector_to_dm(a, p), bvector_to_dm(b, p))**2"
   ]
  },
  {
   "cell_type": "code",
   "execution_count": 20,
   "id": "d7f1cc94",
   "metadata": {},
   "outputs": [],
   "source": [
    "n_q = 2 # number of Qubits - fixed in this implementation\n",
    "dim = 2**n_q # dimension of Hilbert space\n",
    "p = create_pauli_basis(n_q) # create Pauli basis\n",
    "\n",
    "# experiment in Pauli basis\n",
    "M = 20 # number of measurements\n",
    "O = POVM_paulibasis(M, p, dim)\n",
    "#O = POVM_randbasis(M, p, dim)\n",
    "\n",
    "# sampling\n",
    "L = 10000 # number of sampling points\n",
    "r, w0 = sample_ginibre_ensemble(L, p, dim, dim)\n",
    "rho = r[0] # Ideal state\n",
    "\n",
    "# cut_off\n",
    "threshold = 1 / (L**2)\n",
    "n_active0 = np.arange(L)"
   ]
  },
  {
   "cell_type": "code",
   "execution_count": 21,
   "id": "8f40bbe8",
   "metadata": {},
   "outputs": [],
   "source": [
    "# Simulate experiment\n",
    "x = experiment(O, rho)"
   ]
  },
  {
   "cell_type": "code",
   "execution_count": 22,
   "id": "1cf2e13f",
   "metadata": {},
   "outputs": [],
   "source": [
    "# Update the weights of the ensembles\n",
    "w, dt = bayes_update(r, w0, x, O, n_active0, threshold)"
   ]
  },
  {
   "cell_type": "code",
   "execution_count": 23,
   "id": "7ab27923",
   "metadata": {},
   "outputs": [
    {
     "name": "stdout",
     "output_type": "stream",
     "text": [
      "0.8367735953046047\n",
      "1.0917854309082031\n"
     ]
    }
   ],
   "source": [
    "# Estimation\n",
    "rho_est = pointestimate(r, w)\n",
    "print(fidelity(rho, rho_est, p))\n",
    "print(dt)"
   ]
  },
  {
   "cell_type": "code",
   "execution_count": null,
   "id": "f1fb22bb",
   "metadata": {},
   "outputs": [],
   "source": []
  }
 ],
 "metadata": {
  "kernelspec": {
   "display_name": "Python 3 (ipykernel)",
   "language": "python",
   "name": "python3"
  },
  "language_info": {
   "codemirror_mode": {
    "name": "ipython",
    "version": 3
   },
   "file_extension": ".py",
   "mimetype": "text/x-python",
   "name": "python",
   "nbconvert_exporter": "python",
   "pygments_lexer": "ipython3",
   "version": "3.10.0"
  }
 },
 "nbformat": 4,
 "nbformat_minor": 5
}
